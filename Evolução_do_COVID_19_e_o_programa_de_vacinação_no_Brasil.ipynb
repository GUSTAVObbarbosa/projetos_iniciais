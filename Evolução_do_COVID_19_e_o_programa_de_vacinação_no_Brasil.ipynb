{
  "nbformat": 4,
  "nbformat_minor": 0,
  "metadata": {
    "colab": {
      "name": "Evolução do COVID-19 e o programa de vacinação no Brasil.ipynb",
      "provenance": [],
      "collapsed_sections": [],
      "include_colab_link": true
    },
    "kernelspec": {
      "name": "python3",
      "display_name": "Python 3"
    }
  },
  "cells": [
    {
      "cell_type": "markdown",
      "metadata": {
        "id": "view-in-github",
        "colab_type": "text"
      },
      "source": [
        "<a href=\"https://colab.research.google.com/github/GUSTAVObbarbosa/projetos_iniciais/blob/main/Evolu%C3%A7%C3%A3o_do_COVID_19_e_o_programa_de_vacina%C3%A7%C3%A3o_no_Brasil.ipynb\" target=\"_parent\"><img src=\"https://colab.research.google.com/assets/colab-badge.svg\" alt=\"Open In Colab\"/></a>"
      ]
    },
    {
      "cell_type": "markdown",
      "metadata": {
        "id": "-eFQZydM9O9J"
      },
      "source": [
        "<img alt=\"Colaboratory logo\" width=\"15%\" src=\"https://raw.githubusercontent.com/carlosfab/escola-data-science/master/img/novo_logo_bg_claro.png\">\n",
        "\n",
        "#### **Data Science na Prática 3.0**\n",
        "*by [sigmoidal.ai](https://sigmoidal.ai)*  \n",
        "\n",
        "---\n",
        "  "
      ]
    },
    {
      "cell_type": "markdown",
      "metadata": {
        "id": "kLI0gJtzDGuQ"
      },
      "source": [
        "# Evolução do COVID-19 e o programa de vacinação no Brasil\n",
        "\n",
        "A pandemia de COVID-19 teve origem na China, sendo os seus primeiros casos detectados em novembro de 2019. Essa é uma doença infecciosa transmida pelo Coronavírus e sua contaminação ocorre através da tosse, por meio de gotículas e aerossóis. \n",
        "\n",
        "Essa se mostrou altamente transmissível com elevadas taxas de contaminação em todos os países. \n",
        "\n",
        "Como muito foi discutido ao decorrer da pandemia, a única solução real para o problema foi e, ainda é, a vacinação. Sendo assim, o objetivo desse estudo é apresentar um panorama geral da evolução dos casos no mundo e no Brasil e as consequências decorrentes do programa de vacinação.\n",
        "\n",
        "<center><img alt=\"Colaboratory logo\" width=\"50%\" src=\"https://raw.githubusercontent.com/carlosfab/dsnp2/master/img/covid19.jpg\"></center>\n"
      ]
    },
    {
      "cell_type": "markdown",
      "metadata": {
        "id": "0zxQHhIUDF_2"
      },
      "source": [
        "## Obtenção dos Dados\n",
        "\n",
        "Os dados utulizados nessa análise são provenientes do projeto <i>Our World in Data</i>, o qual é atualizado diariamente com base nos dados oficiais de 217 países.\n",
        "\n",
        "Sabemos que os números de casos e mortes confirmadas não são 100% precisos, uma vez que nem sempre todas as pessoas foram testadas ou tiveram um diagnóstico preciso do óbito, mas esses servem para ilustrar a avanço da doença ao longo do tempo. \n",
        "\n",
        "A base de dados utilizada apresenta diversas variáveis ao longo do tempo desde o primeiro caso de confirmado na China até os dias atuais. Entre elas, abaixo segue o dicionário das principais utilizadas:\n",
        "\n",
        "### Dicionário de Variáveis\n",
        "* `date`: data da ocorrência;\n",
        "* `total_death_per_milion`: total de mortes por milhão de pessoas;\n",
        "* `total_vaccinations_per_milion`: total de pessoas vacinadas por milhão;\n",
        "* `new_cases`: total de novos casos confirmados;\n",
        "* `new_cases_smoothed`: média móvel de novos casos.\n",
        "\n",
        "### Importando os dados do COVID-19\n",
        "\n",
        "Os dados estão dispoíveis no site [https://github.com/owid/covid-19-data/tree/master/public/data](https://github.com/owid/covid-19-data/tree/master/public/data). Nesse trabalho, usaremos o formato `csv` neste projeto."
      ]
    },
    {
      "cell_type": "markdown",
      "metadata": {
        "id": "qb5By2nIMS6m"
      },
      "source": [
        "## Análise Exploratória dos Dados\n",
        "\n",
        "Para a análise, os principais pacotes utilizados foram <i>Pandas</i> e <i>Matplotlib</i>, dentro outros abaixo:"
      ]
    },
    {
      "cell_type": "code",
      "metadata": {
        "id": "lOtEJxe0DMEb"
      },
      "source": [
        "# importar as bibliotecas necessárias\n",
        "import pandas as pd\n",
        "import matplotlib.pyplot as plt\n",
        "import matplotlib.dates  as mdates\n",
        "import datetime\n",
        "import numpy as np\n",
        "import warnings\n",
        "\n",
        "warnings.filterwarnings('ignore')\n",
        "\n",
        "covid_dataset = 'https://raw.githubusercontent.com/owid/covid-19-data/master/public/data/owid-covid-data.csv'\n",
        "\n",
        "usecols = ['iso_code', 'continent', 'location', 'date', 'total_cases', 'new_cases',\n",
        "       'new_cases_smoothed', 'total_deaths', 'new_deaths', 'new_deaths_smoothed', \n",
        "       'total_cases_per_million', 'new_cases_per_million', 'new_cases_smoothed_per_million',\n",
        "       'total_deaths_per_million', 'new_deaths_per_million','new_deaths_smoothed_per_million', \n",
        "       'reproduction_rate','total_vaccinations', 'people_vaccinated', 'people_fully_vaccinated', \n",
        "       'new_vaccinations', 'total_vaccinations_per_hundred', 'people_vaccinated_per_hundred', \n",
        "       'people_fully_vaccinated_per_hundred', 'stringency_index', 'population', \n",
        "       'population_density', 'median_age', 'aged_65_older', 'aged_70_older', \n",
        "       'gdp_per_capita', 'extreme_poverty', 'female_smokers', 'male_smokers']\n",
        "\n",
        "df_covid = pd.read_csv(covid_dataset,\n",
        "                       usecols=usecols,\n",
        "                       index_col='date',\n",
        "                       parse_dates=True)\n",
        "\n",
        "df_covid['date2'] = df_covid.index"
      ],
      "execution_count": 1,
      "outputs": []
    },
    {
      "cell_type": "markdown",
      "metadata": {
        "id": "hD8BtRQzh0oc"
      },
      "source": [
        "A fim de faciliar a visualização dos dados, já selecionamos as colunas de interesse, através da variável `usecols`.\n",
        "\n",
        "Para se ter uma ideia inicial da base de dados, abaixo temos as 5 primeiras linhas de informações: "
      ]
    },
    {
      "cell_type": "code",
      "metadata": {
        "id": "dJAVPKSgJu2w",
        "colab": {
          "base_uri": "https://localhost:8080/",
          "height": 418
        },
        "outputId": "cfb4af41-6772-4487-a809-590e6889f679"
      },
      "source": [
        "# verificando as primeiras entradas\n",
        "df_covid.head()"
      ],
      "execution_count": 2,
      "outputs": [
        {
          "output_type": "execute_result",
          "data": {
            "text/plain": [
              "           iso_code continent     location  total_cases  new_cases  \\\n",
              "date                                                                 \n",
              "2020-02-24      AFG      Asia  Afghanistan          5.0        5.0   \n",
              "2020-02-25      AFG      Asia  Afghanistan          5.0        0.0   \n",
              "2020-02-26      AFG      Asia  Afghanistan          5.0        0.0   \n",
              "2020-02-27      AFG      Asia  Afghanistan          5.0        0.0   \n",
              "2020-02-28      AFG      Asia  Afghanistan          5.0        0.0   \n",
              "\n",
              "            new_cases_smoothed  total_deaths  new_deaths  new_deaths_smoothed  \\\n",
              "date                                                                            \n",
              "2020-02-24                 NaN           NaN         NaN                  NaN   \n",
              "2020-02-25                 NaN           NaN         NaN                  NaN   \n",
              "2020-02-26                 NaN           NaN         NaN                  NaN   \n",
              "2020-02-27                 NaN           NaN         NaN                  NaN   \n",
              "2020-02-28                 NaN           NaN         NaN                  NaN   \n",
              "\n",
              "            total_cases_per_million  ...  population  population_density  \\\n",
              "date                                 ...                                   \n",
              "2020-02-24                    0.126  ...  39835428.0              54.422   \n",
              "2020-02-25                    0.126  ...  39835428.0              54.422   \n",
              "2020-02-26                    0.126  ...  39835428.0              54.422   \n",
              "2020-02-27                    0.126  ...  39835428.0              54.422   \n",
              "2020-02-28                    0.126  ...  39835428.0              54.422   \n",
              "\n",
              "            median_age  aged_65_older  aged_70_older  gdp_per_capita  \\\n",
              "date                                                                   \n",
              "2020-02-24        18.6          2.581          1.337        1803.987   \n",
              "2020-02-25        18.6          2.581          1.337        1803.987   \n",
              "2020-02-26        18.6          2.581          1.337        1803.987   \n",
              "2020-02-27        18.6          2.581          1.337        1803.987   \n",
              "2020-02-28        18.6          2.581          1.337        1803.987   \n",
              "\n",
              "            extreme_poverty  female_smokers  male_smokers      date2  \n",
              "date                                                                  \n",
              "2020-02-24              NaN             NaN           NaN 2020-02-24  \n",
              "2020-02-25              NaN             NaN           NaN 2020-02-25  \n",
              "2020-02-26              NaN             NaN           NaN 2020-02-26  \n",
              "2020-02-27              NaN             NaN           NaN 2020-02-27  \n",
              "2020-02-28              NaN             NaN           NaN 2020-02-28  \n",
              "\n",
              "[5 rows x 34 columns]"
            ],
            "text/html": [
              "\n",
              "  <div id=\"df-709dae3d-699b-49d2-a0ce-cd54f1d2addc\">\n",
              "    <div class=\"colab-df-container\">\n",
              "      <div>\n",
              "<style scoped>\n",
              "    .dataframe tbody tr th:only-of-type {\n",
              "        vertical-align: middle;\n",
              "    }\n",
              "\n",
              "    .dataframe tbody tr th {\n",
              "        vertical-align: top;\n",
              "    }\n",
              "\n",
              "    .dataframe thead th {\n",
              "        text-align: right;\n",
              "    }\n",
              "</style>\n",
              "<table border=\"1\" class=\"dataframe\">\n",
              "  <thead>\n",
              "    <tr style=\"text-align: right;\">\n",
              "      <th></th>\n",
              "      <th>iso_code</th>\n",
              "      <th>continent</th>\n",
              "      <th>location</th>\n",
              "      <th>total_cases</th>\n",
              "      <th>new_cases</th>\n",
              "      <th>new_cases_smoothed</th>\n",
              "      <th>total_deaths</th>\n",
              "      <th>new_deaths</th>\n",
              "      <th>new_deaths_smoothed</th>\n",
              "      <th>total_cases_per_million</th>\n",
              "      <th>...</th>\n",
              "      <th>population</th>\n",
              "      <th>population_density</th>\n",
              "      <th>median_age</th>\n",
              "      <th>aged_65_older</th>\n",
              "      <th>aged_70_older</th>\n",
              "      <th>gdp_per_capita</th>\n",
              "      <th>extreme_poverty</th>\n",
              "      <th>female_smokers</th>\n",
              "      <th>male_smokers</th>\n",
              "      <th>date2</th>\n",
              "    </tr>\n",
              "    <tr>\n",
              "      <th>date</th>\n",
              "      <th></th>\n",
              "      <th></th>\n",
              "      <th></th>\n",
              "      <th></th>\n",
              "      <th></th>\n",
              "      <th></th>\n",
              "      <th></th>\n",
              "      <th></th>\n",
              "      <th></th>\n",
              "      <th></th>\n",
              "      <th></th>\n",
              "      <th></th>\n",
              "      <th></th>\n",
              "      <th></th>\n",
              "      <th></th>\n",
              "      <th></th>\n",
              "      <th></th>\n",
              "      <th></th>\n",
              "      <th></th>\n",
              "      <th></th>\n",
              "      <th></th>\n",
              "    </tr>\n",
              "  </thead>\n",
              "  <tbody>\n",
              "    <tr>\n",
              "      <th>2020-02-24</th>\n",
              "      <td>AFG</td>\n",
              "      <td>Asia</td>\n",
              "      <td>Afghanistan</td>\n",
              "      <td>5.0</td>\n",
              "      <td>5.0</td>\n",
              "      <td>NaN</td>\n",
              "      <td>NaN</td>\n",
              "      <td>NaN</td>\n",
              "      <td>NaN</td>\n",
              "      <td>0.126</td>\n",
              "      <td>...</td>\n",
              "      <td>39835428.0</td>\n",
              "      <td>54.422</td>\n",
              "      <td>18.6</td>\n",
              "      <td>2.581</td>\n",
              "      <td>1.337</td>\n",
              "      <td>1803.987</td>\n",
              "      <td>NaN</td>\n",
              "      <td>NaN</td>\n",
              "      <td>NaN</td>\n",
              "      <td>2020-02-24</td>\n",
              "    </tr>\n",
              "    <tr>\n",
              "      <th>2020-02-25</th>\n",
              "      <td>AFG</td>\n",
              "      <td>Asia</td>\n",
              "      <td>Afghanistan</td>\n",
              "      <td>5.0</td>\n",
              "      <td>0.0</td>\n",
              "      <td>NaN</td>\n",
              "      <td>NaN</td>\n",
              "      <td>NaN</td>\n",
              "      <td>NaN</td>\n",
              "      <td>0.126</td>\n",
              "      <td>...</td>\n",
              "      <td>39835428.0</td>\n",
              "      <td>54.422</td>\n",
              "      <td>18.6</td>\n",
              "      <td>2.581</td>\n",
              "      <td>1.337</td>\n",
              "      <td>1803.987</td>\n",
              "      <td>NaN</td>\n",
              "      <td>NaN</td>\n",
              "      <td>NaN</td>\n",
              "      <td>2020-02-25</td>\n",
              "    </tr>\n",
              "    <tr>\n",
              "      <th>2020-02-26</th>\n",
              "      <td>AFG</td>\n",
              "      <td>Asia</td>\n",
              "      <td>Afghanistan</td>\n",
              "      <td>5.0</td>\n",
              "      <td>0.0</td>\n",
              "      <td>NaN</td>\n",
              "      <td>NaN</td>\n",
              "      <td>NaN</td>\n",
              "      <td>NaN</td>\n",
              "      <td>0.126</td>\n",
              "      <td>...</td>\n",
              "      <td>39835428.0</td>\n",
              "      <td>54.422</td>\n",
              "      <td>18.6</td>\n",
              "      <td>2.581</td>\n",
              "      <td>1.337</td>\n",
              "      <td>1803.987</td>\n",
              "      <td>NaN</td>\n",
              "      <td>NaN</td>\n",
              "      <td>NaN</td>\n",
              "      <td>2020-02-26</td>\n",
              "    </tr>\n",
              "    <tr>\n",
              "      <th>2020-02-27</th>\n",
              "      <td>AFG</td>\n",
              "      <td>Asia</td>\n",
              "      <td>Afghanistan</td>\n",
              "      <td>5.0</td>\n",
              "      <td>0.0</td>\n",
              "      <td>NaN</td>\n",
              "      <td>NaN</td>\n",
              "      <td>NaN</td>\n",
              "      <td>NaN</td>\n",
              "      <td>0.126</td>\n",
              "      <td>...</td>\n",
              "      <td>39835428.0</td>\n",
              "      <td>54.422</td>\n",
              "      <td>18.6</td>\n",
              "      <td>2.581</td>\n",
              "      <td>1.337</td>\n",
              "      <td>1803.987</td>\n",
              "      <td>NaN</td>\n",
              "      <td>NaN</td>\n",
              "      <td>NaN</td>\n",
              "      <td>2020-02-27</td>\n",
              "    </tr>\n",
              "    <tr>\n",
              "      <th>2020-02-28</th>\n",
              "      <td>AFG</td>\n",
              "      <td>Asia</td>\n",
              "      <td>Afghanistan</td>\n",
              "      <td>5.0</td>\n",
              "      <td>0.0</td>\n",
              "      <td>NaN</td>\n",
              "      <td>NaN</td>\n",
              "      <td>NaN</td>\n",
              "      <td>NaN</td>\n",
              "      <td>0.126</td>\n",
              "      <td>...</td>\n",
              "      <td>39835428.0</td>\n",
              "      <td>54.422</td>\n",
              "      <td>18.6</td>\n",
              "      <td>2.581</td>\n",
              "      <td>1.337</td>\n",
              "      <td>1803.987</td>\n",
              "      <td>NaN</td>\n",
              "      <td>NaN</td>\n",
              "      <td>NaN</td>\n",
              "      <td>2020-02-28</td>\n",
              "    </tr>\n",
              "  </tbody>\n",
              "</table>\n",
              "<p>5 rows × 34 columns</p>\n",
              "</div>\n",
              "      <button class=\"colab-df-convert\" onclick=\"convertToInteractive('df-709dae3d-699b-49d2-a0ce-cd54f1d2addc')\"\n",
              "              title=\"Convert this dataframe to an interactive table.\"\n",
              "              style=\"display:none;\">\n",
              "        \n",
              "  <svg xmlns=\"http://www.w3.org/2000/svg\" height=\"24px\"viewBox=\"0 0 24 24\"\n",
              "       width=\"24px\">\n",
              "    <path d=\"M0 0h24v24H0V0z\" fill=\"none\"/>\n",
              "    <path d=\"M18.56 5.44l.94 2.06.94-2.06 2.06-.94-2.06-.94-.94-2.06-.94 2.06-2.06.94zm-11 1L8.5 8.5l.94-2.06 2.06-.94-2.06-.94L8.5 2.5l-.94 2.06-2.06.94zm10 10l.94 2.06.94-2.06 2.06-.94-2.06-.94-.94-2.06-.94 2.06-2.06.94z\"/><path d=\"M17.41 7.96l-1.37-1.37c-.4-.4-.92-.59-1.43-.59-.52 0-1.04.2-1.43.59L10.3 9.45l-7.72 7.72c-.78.78-.78 2.05 0 2.83L4 21.41c.39.39.9.59 1.41.59.51 0 1.02-.2 1.41-.59l7.78-7.78 2.81-2.81c.8-.78.8-2.07 0-2.86zM5.41 20L4 18.59l7.72-7.72 1.47 1.35L5.41 20z\"/>\n",
              "  </svg>\n",
              "      </button>\n",
              "      \n",
              "  <style>\n",
              "    .colab-df-container {\n",
              "      display:flex;\n",
              "      flex-wrap:wrap;\n",
              "      gap: 12px;\n",
              "    }\n",
              "\n",
              "    .colab-df-convert {\n",
              "      background-color: #E8F0FE;\n",
              "      border: none;\n",
              "      border-radius: 50%;\n",
              "      cursor: pointer;\n",
              "      display: none;\n",
              "      fill: #1967D2;\n",
              "      height: 32px;\n",
              "      padding: 0 0 0 0;\n",
              "      width: 32px;\n",
              "    }\n",
              "\n",
              "    .colab-df-convert:hover {\n",
              "      background-color: #E2EBFA;\n",
              "      box-shadow: 0px 1px 2px rgba(60, 64, 67, 0.3), 0px 1px 3px 1px rgba(60, 64, 67, 0.15);\n",
              "      fill: #174EA6;\n",
              "    }\n",
              "\n",
              "    [theme=dark] .colab-df-convert {\n",
              "      background-color: #3B4455;\n",
              "      fill: #D2E3FC;\n",
              "    }\n",
              "\n",
              "    [theme=dark] .colab-df-convert:hover {\n",
              "      background-color: #434B5C;\n",
              "      box-shadow: 0px 1px 3px 1px rgba(0, 0, 0, 0.15);\n",
              "      filter: drop-shadow(0px 1px 2px rgba(0, 0, 0, 0.3));\n",
              "      fill: #FFFFFF;\n",
              "    }\n",
              "  </style>\n",
              "\n",
              "      <script>\n",
              "        const buttonEl =\n",
              "          document.querySelector('#df-709dae3d-699b-49d2-a0ce-cd54f1d2addc button.colab-df-convert');\n",
              "        buttonEl.style.display =\n",
              "          google.colab.kernel.accessAllowed ? 'block' : 'none';\n",
              "\n",
              "        async function convertToInteractive(key) {\n",
              "          const element = document.querySelector('#df-709dae3d-699b-49d2-a0ce-cd54f1d2addc');\n",
              "          const dataTable =\n",
              "            await google.colab.kernel.invokeFunction('convertToInteractive',\n",
              "                                                     [key], {});\n",
              "          if (!dataTable) return;\n",
              "\n",
              "          const docLinkHtml = 'Like what you see? Visit the ' +\n",
              "            '<a target=\"_blank\" href=https://colab.research.google.com/notebooks/data_table.ipynb>data table notebook</a>'\n",
              "            + ' to learn more about interactive tables.';\n",
              "          element.innerHTML = '';\n",
              "          dataTable['output_type'] = 'display_data';\n",
              "          await google.colab.output.renderOutput(dataTable, element);\n",
              "          const docLink = document.createElement('div');\n",
              "          docLink.innerHTML = docLinkHtml;\n",
              "          element.appendChild(docLink);\n",
              "        }\n",
              "      </script>\n",
              "    </div>\n",
              "  </div>\n",
              "  "
            ]
          },
          "metadata": {},
          "execution_count": 2
        }
      ]
    },
    {
      "cell_type": "markdown",
      "source": [
        "##Panorama geral da pandemia\n",
        "\n",
        "O primeiro caso de covid-19 confirmado foi em meados de novembro de 2019, em Wuhan, na China. A partir disso, os caso começaram a se multiplicar na China e foi se espalhando pelo mundo.\n",
        "\n",
        "Por mais que a origem tenha sido na China, os casos confirmados se espalharam muito mais rapidamente em outros países. A fim de visualizar o crescimento nos números de <b>casos confirmados</b> em diversos países, o gráfico de barras corridos ou <i>bar race chart</i> nos dá uma noção geral dessa evolução.\n",
        "\n",
        "Para isso, plotamos o gráfico com os top 10 países com maior número de casos até a data de 31/12/2021."
      ],
      "metadata": {
        "id": "vZhvfRHm5SEz"
      }
    },
    {
      "cell_type": "code",
      "source": [
        "#Gerando um dataframe somente com os países de interesse\n",
        "df_covid_top10 = df_covid[['location', 'total_cases', 'date2']]\n",
        "\n",
        "#Levantando os 10 países com mais casos de covid-19 confirmados em 22/05/2022\n",
        "df_covid_top10.loc[df_covid_top10.date2 == '2021-12-31'].sort_values(by='total_cases', ascending=False).head(20)"
      ],
      "metadata": {
        "colab": {
          "base_uri": "https://localhost:8080/",
          "height": 708
        },
        "id": "GSjjt8ab76ct",
        "outputId": "ac715088-1514-4d95-adef-2ed999585d10"
      },
      "execution_count": 9,
      "outputs": [
        {
          "output_type": "execute_result",
          "data": {
            "text/plain": [
              "                       location  total_cases      date2\n",
              "date                                                   \n",
              "2021-12-31                World  288690598.0 2021-12-31\n",
              "2021-12-31          High income  135107921.0 2021-12-31\n",
              "2021-12-31               Europe   88593236.0 2021-12-31\n",
              "2021-12-31  Upper middle income   86368456.0 2021-12-31\n",
              "2021-12-31                 Asia   84936560.0 2021-12-31\n",
              "2021-12-31  Lower middle income   65650334.0 2021-12-31\n",
              "2021-12-31        North America   65042689.0 2021-12-31\n",
              "2021-12-31       European Union   56203083.0 2021-12-31\n",
              "2021-12-31        United States   54835685.0 2021-12-31\n",
              "2021-12-31        South America   39772404.0 2021-12-31\n",
              "2021-12-31                India   34861579.0 2021-12-31\n",
              "2021-12-31               Brazil   22291839.0 2021-12-31\n",
              "2021-12-31       United Kingdom   12964690.0 2021-12-31\n",
              "2021-12-31               Russia   10320405.0 2021-12-31\n",
              "2021-12-31               France   10018021.0 2021-12-31\n",
              "2021-12-31               Africa    9756168.0 2021-12-31\n",
              "2021-12-31               Turkey    9482550.0 2021-12-31\n",
              "2021-12-31              Germany    7150422.0 2021-12-31\n",
              "2021-12-31                Spain    6294745.0 2021-12-31\n",
              "2021-12-31                 Iran    6194401.0 2021-12-31"
            ],
            "text/html": [
              "\n",
              "  <div id=\"df-b584e550-5116-4121-89cc-e569572de530\">\n",
              "    <div class=\"colab-df-container\">\n",
              "      <div>\n",
              "<style scoped>\n",
              "    .dataframe tbody tr th:only-of-type {\n",
              "        vertical-align: middle;\n",
              "    }\n",
              "\n",
              "    .dataframe tbody tr th {\n",
              "        vertical-align: top;\n",
              "    }\n",
              "\n",
              "    .dataframe thead th {\n",
              "        text-align: right;\n",
              "    }\n",
              "</style>\n",
              "<table border=\"1\" class=\"dataframe\">\n",
              "  <thead>\n",
              "    <tr style=\"text-align: right;\">\n",
              "      <th></th>\n",
              "      <th>location</th>\n",
              "      <th>total_cases</th>\n",
              "      <th>date2</th>\n",
              "    </tr>\n",
              "    <tr>\n",
              "      <th>date</th>\n",
              "      <th></th>\n",
              "      <th></th>\n",
              "      <th></th>\n",
              "    </tr>\n",
              "  </thead>\n",
              "  <tbody>\n",
              "    <tr>\n",
              "      <th>2021-12-31</th>\n",
              "      <td>World</td>\n",
              "      <td>288690598.0</td>\n",
              "      <td>2021-12-31</td>\n",
              "    </tr>\n",
              "    <tr>\n",
              "      <th>2021-12-31</th>\n",
              "      <td>High income</td>\n",
              "      <td>135107921.0</td>\n",
              "      <td>2021-12-31</td>\n",
              "    </tr>\n",
              "    <tr>\n",
              "      <th>2021-12-31</th>\n",
              "      <td>Europe</td>\n",
              "      <td>88593236.0</td>\n",
              "      <td>2021-12-31</td>\n",
              "    </tr>\n",
              "    <tr>\n",
              "      <th>2021-12-31</th>\n",
              "      <td>Upper middle income</td>\n",
              "      <td>86368456.0</td>\n",
              "      <td>2021-12-31</td>\n",
              "    </tr>\n",
              "    <tr>\n",
              "      <th>2021-12-31</th>\n",
              "      <td>Asia</td>\n",
              "      <td>84936560.0</td>\n",
              "      <td>2021-12-31</td>\n",
              "    </tr>\n",
              "    <tr>\n",
              "      <th>2021-12-31</th>\n",
              "      <td>Lower middle income</td>\n",
              "      <td>65650334.0</td>\n",
              "      <td>2021-12-31</td>\n",
              "    </tr>\n",
              "    <tr>\n",
              "      <th>2021-12-31</th>\n",
              "      <td>North America</td>\n",
              "      <td>65042689.0</td>\n",
              "      <td>2021-12-31</td>\n",
              "    </tr>\n",
              "    <tr>\n",
              "      <th>2021-12-31</th>\n",
              "      <td>European Union</td>\n",
              "      <td>56203083.0</td>\n",
              "      <td>2021-12-31</td>\n",
              "    </tr>\n",
              "    <tr>\n",
              "      <th>2021-12-31</th>\n",
              "      <td>United States</td>\n",
              "      <td>54835685.0</td>\n",
              "      <td>2021-12-31</td>\n",
              "    </tr>\n",
              "    <tr>\n",
              "      <th>2021-12-31</th>\n",
              "      <td>South America</td>\n",
              "      <td>39772404.0</td>\n",
              "      <td>2021-12-31</td>\n",
              "    </tr>\n",
              "    <tr>\n",
              "      <th>2021-12-31</th>\n",
              "      <td>India</td>\n",
              "      <td>34861579.0</td>\n",
              "      <td>2021-12-31</td>\n",
              "    </tr>\n",
              "    <tr>\n",
              "      <th>2021-12-31</th>\n",
              "      <td>Brazil</td>\n",
              "      <td>22291839.0</td>\n",
              "      <td>2021-12-31</td>\n",
              "    </tr>\n",
              "    <tr>\n",
              "      <th>2021-12-31</th>\n",
              "      <td>United Kingdom</td>\n",
              "      <td>12964690.0</td>\n",
              "      <td>2021-12-31</td>\n",
              "    </tr>\n",
              "    <tr>\n",
              "      <th>2021-12-31</th>\n",
              "      <td>Russia</td>\n",
              "      <td>10320405.0</td>\n",
              "      <td>2021-12-31</td>\n",
              "    </tr>\n",
              "    <tr>\n",
              "      <th>2021-12-31</th>\n",
              "      <td>France</td>\n",
              "      <td>10018021.0</td>\n",
              "      <td>2021-12-31</td>\n",
              "    </tr>\n",
              "    <tr>\n",
              "      <th>2021-12-31</th>\n",
              "      <td>Africa</td>\n",
              "      <td>9756168.0</td>\n",
              "      <td>2021-12-31</td>\n",
              "    </tr>\n",
              "    <tr>\n",
              "      <th>2021-12-31</th>\n",
              "      <td>Turkey</td>\n",
              "      <td>9482550.0</td>\n",
              "      <td>2021-12-31</td>\n",
              "    </tr>\n",
              "    <tr>\n",
              "      <th>2021-12-31</th>\n",
              "      <td>Germany</td>\n",
              "      <td>7150422.0</td>\n",
              "      <td>2021-12-31</td>\n",
              "    </tr>\n",
              "    <tr>\n",
              "      <th>2021-12-31</th>\n",
              "      <td>Spain</td>\n",
              "      <td>6294745.0</td>\n",
              "      <td>2021-12-31</td>\n",
              "    </tr>\n",
              "    <tr>\n",
              "      <th>2021-12-31</th>\n",
              "      <td>Iran</td>\n",
              "      <td>6194401.0</td>\n",
              "      <td>2021-12-31</td>\n",
              "    </tr>\n",
              "  </tbody>\n",
              "</table>\n",
              "</div>\n",
              "      <button class=\"colab-df-convert\" onclick=\"convertToInteractive('df-b584e550-5116-4121-89cc-e569572de530')\"\n",
              "              title=\"Convert this dataframe to an interactive table.\"\n",
              "              style=\"display:none;\">\n",
              "        \n",
              "  <svg xmlns=\"http://www.w3.org/2000/svg\" height=\"24px\"viewBox=\"0 0 24 24\"\n",
              "       width=\"24px\">\n",
              "    <path d=\"M0 0h24v24H0V0z\" fill=\"none\"/>\n",
              "    <path d=\"M18.56 5.44l.94 2.06.94-2.06 2.06-.94-2.06-.94-.94-2.06-.94 2.06-2.06.94zm-11 1L8.5 8.5l.94-2.06 2.06-.94-2.06-.94L8.5 2.5l-.94 2.06-2.06.94zm10 10l.94 2.06.94-2.06 2.06-.94-2.06-.94-.94-2.06-.94 2.06-2.06.94z\"/><path d=\"M17.41 7.96l-1.37-1.37c-.4-.4-.92-.59-1.43-.59-.52 0-1.04.2-1.43.59L10.3 9.45l-7.72 7.72c-.78.78-.78 2.05 0 2.83L4 21.41c.39.39.9.59 1.41.59.51 0 1.02-.2 1.41-.59l7.78-7.78 2.81-2.81c.8-.78.8-2.07 0-2.86zM5.41 20L4 18.59l7.72-7.72 1.47 1.35L5.41 20z\"/>\n",
              "  </svg>\n",
              "      </button>\n",
              "      \n",
              "  <style>\n",
              "    .colab-df-container {\n",
              "      display:flex;\n",
              "      flex-wrap:wrap;\n",
              "      gap: 12px;\n",
              "    }\n",
              "\n",
              "    .colab-df-convert {\n",
              "      background-color: #E8F0FE;\n",
              "      border: none;\n",
              "      border-radius: 50%;\n",
              "      cursor: pointer;\n",
              "      display: none;\n",
              "      fill: #1967D2;\n",
              "      height: 32px;\n",
              "      padding: 0 0 0 0;\n",
              "      width: 32px;\n",
              "    }\n",
              "\n",
              "    .colab-df-convert:hover {\n",
              "      background-color: #E2EBFA;\n",
              "      box-shadow: 0px 1px 2px rgba(60, 64, 67, 0.3), 0px 1px 3px 1px rgba(60, 64, 67, 0.15);\n",
              "      fill: #174EA6;\n",
              "    }\n",
              "\n",
              "    [theme=dark] .colab-df-convert {\n",
              "      background-color: #3B4455;\n",
              "      fill: #D2E3FC;\n",
              "    }\n",
              "\n",
              "    [theme=dark] .colab-df-convert:hover {\n",
              "      background-color: #434B5C;\n",
              "      box-shadow: 0px 1px 3px 1px rgba(0, 0, 0, 0.15);\n",
              "      filter: drop-shadow(0px 1px 2px rgba(0, 0, 0, 0.3));\n",
              "      fill: #FFFFFF;\n",
              "    }\n",
              "  </style>\n",
              "\n",
              "      <script>\n",
              "        const buttonEl =\n",
              "          document.querySelector('#df-b584e550-5116-4121-89cc-e569572de530 button.colab-df-convert');\n",
              "        buttonEl.style.display =\n",
              "          google.colab.kernel.accessAllowed ? 'block' : 'none';\n",
              "\n",
              "        async function convertToInteractive(key) {\n",
              "          const element = document.querySelector('#df-b584e550-5116-4121-89cc-e569572de530');\n",
              "          const dataTable =\n",
              "            await google.colab.kernel.invokeFunction('convertToInteractive',\n",
              "                                                     [key], {});\n",
              "          if (!dataTable) return;\n",
              "\n",
              "          const docLinkHtml = 'Like what you see? Visit the ' +\n",
              "            '<a target=\"_blank\" href=https://colab.research.google.com/notebooks/data_table.ipynb>data table notebook</a>'\n",
              "            + ' to learn more about interactive tables.';\n",
              "          element.innerHTML = '';\n",
              "          dataTable['output_type'] = 'display_data';\n",
              "          await google.colab.output.renderOutput(dataTable, element);\n",
              "          const docLink = document.createElement('div');\n",
              "          docLink.innerHTML = docLinkHtml;\n",
              "          element.appendChild(docLink);\n",
              "        }\n",
              "      </script>\n",
              "    </div>\n",
              "  </div>\n",
              "  "
            ]
          },
          "metadata": {},
          "execution_count": 9
        }
      ]
    },
    {
      "cell_type": "markdown",
      "source": [
        "Considerando apenas os países contidos na lista, iremos utilizar dados dos seguintes países:\n",
        "* Estados Unidos\n",
        "* India\n",
        "* Brazil\n",
        "* Reino Unido\n",
        "* Russia\n",
        "* França\n",
        "* Turquia\n",
        "* Alemanha\n",
        "* Espanha\n",
        "* Irã\n",
        "* Italia\n",
        "\n",
        "A China não aparece nessa lista dos top 10, mas uma vez que foi lá que a doença teve início, iremos inclui-lá na lista. Além da China, a Italia tambémm não aparece, mas em 2021, ela teve destaque nas mídias devido a elevada taxa de transmissão e consequente moralidade, sendo necessário um longo período de <i>lockdown</i>. Sendo assim, a lista será contida pela top 10 + China e Italia."
      ],
      "metadata": {
        "id": "ZiR91IUI9-nT"
      }
    },
    {
      "cell_type": "code",
      "source": [
        "#Filtrando somente os países de interesse\n",
        "location = ['China','United States', 'India', 'Brazil', 'France', 'Germany', 'United Kingdom', 'Russia', 'South Korea', 'Italy', 'Turvey']\n",
        "\n",
        "df_covid_top10 = df_covid_top10[df_covid_top10['location'].isin(location)]"
      ],
      "metadata": {
        "id": "P8PtgIPj-39y"
      },
      "execution_count": 10,
      "outputs": []
    },
    {
      "cell_type": "markdown",
      "source": [
        "Um vez que temos os países definidos e filtrados, precisamos formatar a tabela de forma que cada coluna represente o total de casos confirmados de cada um dos países. Além disso, para plotar o Bar Race Chart, iremos utilizar o pacote <i>bar_chart_race</i> e, para isso, será necessário instalá-lo."
      ],
      "metadata": {
        "id": "p1a2WMtz_UKG"
      }
    },
    {
      "cell_type": "code",
      "source": [
        "#Formatando o dataframe\n",
        "df_covid_top10 = df_covid_top10.pivot_table(\n",
        "                                            values='total_cases',\n",
        "                                            index='date',\n",
        "                                            columns='location',\n",
        "                                            fill_value=0\n",
        "                                            )\n",
        "\n",
        "df_covid_top10.tail()"
      ],
      "metadata": {
        "colab": {
          "base_uri": "https://localhost:8080/",
          "height": 238
        },
        "id": "cjCX6AT9_zjR",
        "outputId": "ee212fd0-6acf-42e5-ee82-474bee182149"
      },
      "execution_count": 11,
      "outputs": [
        {
          "output_type": "execute_result",
          "data": {
            "text/plain": [
              "location      Brazil   China    France   Germany     India     Italy  \\\n",
              "date                                                                   \n",
              "2022-06-08  31315777  885249  29767548  26660652  43197522  17566061   \n",
              "2022-06-09  31360850  885454  29807699  26738530  43205106  17589595   \n",
              "2022-06-10  31417341  885634  29807793  26803867  43213435  17611607   \n",
              "2022-06-11  31445137  885897  29807699  26803867  43222017  17634065   \n",
              "2022-06-12  31456865  886073  29807699  26809245  43230101  17653375   \n",
              "\n",
              "location      Russia  South Korea  United Kingdom  United States  \n",
              "date                                                              \n",
              "2022-06-08  18094054     18200346        22439681       85214036  \n",
              "2022-06-09  18097767     18209650        22449760       85329656  \n",
              "2022-06-10  18101372     18218078        22459358       85468816  \n",
              "2022-06-11  18104944     18225460        22459358       85500976  \n",
              "2022-06-12  18108285     18229288        22459358       85515795  "
            ],
            "text/html": [
              "\n",
              "  <div id=\"df-95178001-4627-42a5-832e-7a6896995fa7\">\n",
              "    <div class=\"colab-df-container\">\n",
              "      <div>\n",
              "<style scoped>\n",
              "    .dataframe tbody tr th:only-of-type {\n",
              "        vertical-align: middle;\n",
              "    }\n",
              "\n",
              "    .dataframe tbody tr th {\n",
              "        vertical-align: top;\n",
              "    }\n",
              "\n",
              "    .dataframe thead th {\n",
              "        text-align: right;\n",
              "    }\n",
              "</style>\n",
              "<table border=\"1\" class=\"dataframe\">\n",
              "  <thead>\n",
              "    <tr style=\"text-align: right;\">\n",
              "      <th>location</th>\n",
              "      <th>Brazil</th>\n",
              "      <th>China</th>\n",
              "      <th>France</th>\n",
              "      <th>Germany</th>\n",
              "      <th>India</th>\n",
              "      <th>Italy</th>\n",
              "      <th>Russia</th>\n",
              "      <th>South Korea</th>\n",
              "      <th>United Kingdom</th>\n",
              "      <th>United States</th>\n",
              "    </tr>\n",
              "    <tr>\n",
              "      <th>date</th>\n",
              "      <th></th>\n",
              "      <th></th>\n",
              "      <th></th>\n",
              "      <th></th>\n",
              "      <th></th>\n",
              "      <th></th>\n",
              "      <th></th>\n",
              "      <th></th>\n",
              "      <th></th>\n",
              "      <th></th>\n",
              "    </tr>\n",
              "  </thead>\n",
              "  <tbody>\n",
              "    <tr>\n",
              "      <th>2022-06-08</th>\n",
              "      <td>31315777</td>\n",
              "      <td>885249</td>\n",
              "      <td>29767548</td>\n",
              "      <td>26660652</td>\n",
              "      <td>43197522</td>\n",
              "      <td>17566061</td>\n",
              "      <td>18094054</td>\n",
              "      <td>18200346</td>\n",
              "      <td>22439681</td>\n",
              "      <td>85214036</td>\n",
              "    </tr>\n",
              "    <tr>\n",
              "      <th>2022-06-09</th>\n",
              "      <td>31360850</td>\n",
              "      <td>885454</td>\n",
              "      <td>29807699</td>\n",
              "      <td>26738530</td>\n",
              "      <td>43205106</td>\n",
              "      <td>17589595</td>\n",
              "      <td>18097767</td>\n",
              "      <td>18209650</td>\n",
              "      <td>22449760</td>\n",
              "      <td>85329656</td>\n",
              "    </tr>\n",
              "    <tr>\n",
              "      <th>2022-06-10</th>\n",
              "      <td>31417341</td>\n",
              "      <td>885634</td>\n",
              "      <td>29807793</td>\n",
              "      <td>26803867</td>\n",
              "      <td>43213435</td>\n",
              "      <td>17611607</td>\n",
              "      <td>18101372</td>\n",
              "      <td>18218078</td>\n",
              "      <td>22459358</td>\n",
              "      <td>85468816</td>\n",
              "    </tr>\n",
              "    <tr>\n",
              "      <th>2022-06-11</th>\n",
              "      <td>31445137</td>\n",
              "      <td>885897</td>\n",
              "      <td>29807699</td>\n",
              "      <td>26803867</td>\n",
              "      <td>43222017</td>\n",
              "      <td>17634065</td>\n",
              "      <td>18104944</td>\n",
              "      <td>18225460</td>\n",
              "      <td>22459358</td>\n",
              "      <td>85500976</td>\n",
              "    </tr>\n",
              "    <tr>\n",
              "      <th>2022-06-12</th>\n",
              "      <td>31456865</td>\n",
              "      <td>886073</td>\n",
              "      <td>29807699</td>\n",
              "      <td>26809245</td>\n",
              "      <td>43230101</td>\n",
              "      <td>17653375</td>\n",
              "      <td>18108285</td>\n",
              "      <td>18229288</td>\n",
              "      <td>22459358</td>\n",
              "      <td>85515795</td>\n",
              "    </tr>\n",
              "  </tbody>\n",
              "</table>\n",
              "</div>\n",
              "      <button class=\"colab-df-convert\" onclick=\"convertToInteractive('df-95178001-4627-42a5-832e-7a6896995fa7')\"\n",
              "              title=\"Convert this dataframe to an interactive table.\"\n",
              "              style=\"display:none;\">\n",
              "        \n",
              "  <svg xmlns=\"http://www.w3.org/2000/svg\" height=\"24px\"viewBox=\"0 0 24 24\"\n",
              "       width=\"24px\">\n",
              "    <path d=\"M0 0h24v24H0V0z\" fill=\"none\"/>\n",
              "    <path d=\"M18.56 5.44l.94 2.06.94-2.06 2.06-.94-2.06-.94-.94-2.06-.94 2.06-2.06.94zm-11 1L8.5 8.5l.94-2.06 2.06-.94-2.06-.94L8.5 2.5l-.94 2.06-2.06.94zm10 10l.94 2.06.94-2.06 2.06-.94-2.06-.94-.94-2.06-.94 2.06-2.06.94z\"/><path d=\"M17.41 7.96l-1.37-1.37c-.4-.4-.92-.59-1.43-.59-.52 0-1.04.2-1.43.59L10.3 9.45l-7.72 7.72c-.78.78-.78 2.05 0 2.83L4 21.41c.39.39.9.59 1.41.59.51 0 1.02-.2 1.41-.59l7.78-7.78 2.81-2.81c.8-.78.8-2.07 0-2.86zM5.41 20L4 18.59l7.72-7.72 1.47 1.35L5.41 20z\"/>\n",
              "  </svg>\n",
              "      </button>\n",
              "      \n",
              "  <style>\n",
              "    .colab-df-container {\n",
              "      display:flex;\n",
              "      flex-wrap:wrap;\n",
              "      gap: 12px;\n",
              "    }\n",
              "\n",
              "    .colab-df-convert {\n",
              "      background-color: #E8F0FE;\n",
              "      border: none;\n",
              "      border-radius: 50%;\n",
              "      cursor: pointer;\n",
              "      display: none;\n",
              "      fill: #1967D2;\n",
              "      height: 32px;\n",
              "      padding: 0 0 0 0;\n",
              "      width: 32px;\n",
              "    }\n",
              "\n",
              "    .colab-df-convert:hover {\n",
              "      background-color: #E2EBFA;\n",
              "      box-shadow: 0px 1px 2px rgba(60, 64, 67, 0.3), 0px 1px 3px 1px rgba(60, 64, 67, 0.15);\n",
              "      fill: #174EA6;\n",
              "    }\n",
              "\n",
              "    [theme=dark] .colab-df-convert {\n",
              "      background-color: #3B4455;\n",
              "      fill: #D2E3FC;\n",
              "    }\n",
              "\n",
              "    [theme=dark] .colab-df-convert:hover {\n",
              "      background-color: #434B5C;\n",
              "      box-shadow: 0px 1px 3px 1px rgba(0, 0, 0, 0.15);\n",
              "      filter: drop-shadow(0px 1px 2px rgba(0, 0, 0, 0.3));\n",
              "      fill: #FFFFFF;\n",
              "    }\n",
              "  </style>\n",
              "\n",
              "      <script>\n",
              "        const buttonEl =\n",
              "          document.querySelector('#df-95178001-4627-42a5-832e-7a6896995fa7 button.colab-df-convert');\n",
              "        buttonEl.style.display =\n",
              "          google.colab.kernel.accessAllowed ? 'block' : 'none';\n",
              "\n",
              "        async function convertToInteractive(key) {\n",
              "          const element = document.querySelector('#df-95178001-4627-42a5-832e-7a6896995fa7');\n",
              "          const dataTable =\n",
              "            await google.colab.kernel.invokeFunction('convertToInteractive',\n",
              "                                                     [key], {});\n",
              "          if (!dataTable) return;\n",
              "\n",
              "          const docLinkHtml = 'Like what you see? Visit the ' +\n",
              "            '<a target=\"_blank\" href=https://colab.research.google.com/notebooks/data_table.ipynb>data table notebook</a>'\n",
              "            + ' to learn more about interactive tables.';\n",
              "          element.innerHTML = '';\n",
              "          dataTable['output_type'] = 'display_data';\n",
              "          await google.colab.output.renderOutput(dataTable, element);\n",
              "          const docLink = document.createElement('div');\n",
              "          docLink.innerHTML = docLinkHtml;\n",
              "          element.appendChild(docLink);\n",
              "        }\n",
              "      </script>\n",
              "    </div>\n",
              "  </div>\n",
              "  "
            ]
          },
          "metadata": {},
          "execution_count": 11
        }
      ]
    },
    {
      "cell_type": "code",
      "source": [
        "#Instalando o pacote Bar Chart Race\n",
        "!pip install bar_chart_race -q"
      ],
      "metadata": {
        "colab": {
          "base_uri": "https://localhost:8080/"
        },
        "id": "C9Hhr5YhAPzr",
        "outputId": "2dd819a0-6470-4c2a-a9aa-a341eee2d970"
      },
      "execution_count": 6,
      "outputs": [
        {
          "output_type": "stream",
          "name": "stdout",
          "text": [
            "\u001b[?25l\r\u001b[K     |██                              | 10 kB 19.5 MB/s eta 0:00:01\r\u001b[K     |████▏                           | 20 kB 22.7 MB/s eta 0:00:01\r\u001b[K     |██████▎                         | 30 kB 24.8 MB/s eta 0:00:01\r\u001b[K     |████████▍                       | 40 kB 14.9 MB/s eta 0:00:01\r\u001b[K     |██████████▌                     | 51 kB 11.4 MB/s eta 0:00:01\r\u001b[K     |████████████▌                   | 61 kB 13.0 MB/s eta 0:00:01\r\u001b[K     |██████████████▋                 | 71 kB 13.5 MB/s eta 0:00:01\r\u001b[K     |████████████████▊               | 81 kB 10.9 MB/s eta 0:00:01\r\u001b[K     |██████████████████▉             | 92 kB 11.9 MB/s eta 0:00:01\r\u001b[K     |█████████████████████           | 102 kB 12.8 MB/s eta 0:00:01\r\u001b[K     |███████████████████████         | 112 kB 12.8 MB/s eta 0:00:01\r\u001b[K     |█████████████████████████       | 122 kB 12.8 MB/s eta 0:00:01\r\u001b[K     |███████████████████████████▏    | 133 kB 12.8 MB/s eta 0:00:01\r\u001b[K     |█████████████████████████████▎  | 143 kB 12.8 MB/s eta 0:00:01\r\u001b[K     |███████████████████████████████▍| 153 kB 12.8 MB/s eta 0:00:01\r\u001b[K     |████████████████████████████████| 156 kB 12.8 MB/s \n",
            "\u001b[?25h"
          ]
        }
      ]
    },
    {
      "cell_type": "code",
      "source": [
        "#Plotando o gráfico\n",
        "\n",
        "import bar_chart_race as bcr\n",
        "\n",
        "bcr.bar_chart_race(df=df_covid_top10, \n",
        "                   filename=None,\n",
        "                   bar_size=.95,\n",
        "                   steps_per_period=10,\n",
        "                   period_length=500,\n",
        "                   cmap='tab10',\n",
        "                   period_summary_func=lambda v, r: {'x':.99,\n",
        "                                                     'y':.18,\n",
        "                                                     's': f'Total de casos confirmados: {v.nlargest(6).sum():,.0f}',\n",
        "                                                     'ha': 'right', 'size': 8, 'family':'Courier New'}\n",
        "                  )"
      ],
      "metadata": {
        "id": "KKc94r8SAal7"
      },
      "execution_count": null,
      "outputs": []
    },
    {
      "cell_type": "markdown",
      "source": [
        "Como podemos verificar no gráfico, a doença teve uma rápida evolução nos casos na China, porém a Itália rapidamente tomou o topo e após isso, aos poucos o Brasil e, posteriormente, Estados Unidos tiveram uma elevada evolução nos casos. \n",
        "\n",
        "O mais interessante é que, por mais que a China tenha sido origem da doença, rapidamente ela foi para a base do gráfico. Isso pode ser explicado pelo fato de que os orientais possuem uma cultura de prevenção de doenças, como por exemplo o uso frequente de máscaras e forte política de testagem em massa e rastreio dos casos em andamento. Além disso, o <i>lockdown</i> é levado a sério em regiões com casos confirmados.\n",
        "\n",
        "Outra forma de análisar a evolução dos casos desses países em questão, é no gráfco de linhas. O gráfico abaixo permite filtrar somente os países desejados permitindo uma melhor visualização."
      ],
      "metadata": {
        "id": "-XfGNT_9AmZW"
      }
    },
    {
      "cell_type": "code",
      "source": [
        "#Importar o pacote plotly\n",
        "import plotly.express as px\n",
        "\n",
        "#Incluindo a coluna de data np dataframe\n",
        "df_covid_top10['date2'] = df_covid_top10.index\n",
        "\n",
        "df = df_covid_top10\n",
        "\n",
        "fig = px.line(df, \n",
        "              x=\"date2\", \n",
        "              y=df.columns,\n",
        "              hover_data={'date2': \"|%B %d, %Y\"})\n",
        "\n",
        "fig.update_layout(\n",
        "    title='Evolução dos casos de covid-19',\n",
        "    xaxis_title='Período',\n",
        "    yaxis_title='Casos confirmados',\n",
        "    legend_title='Países'\n",
        ")\n",
        "\n",
        "fig.update_xaxes(\n",
        "    dtick=\"M1\",\n",
        "    tickformat=\"%b\\n%Y\")\n",
        "\n",
        "fig.show()"
      ],
      "metadata": {
        "id": "lKzxYeyQDnG7"
      },
      "execution_count": null,
      "outputs": []
    },
    {
      "cell_type": "markdown",
      "source": [
        "##Panorama do covid-19 no Brasil\n",
        "\n",
        "No Brasil, o primeiro caso foi confirmado em 26/02/2020. Após essa data, o número de casos apresentou um crescimento acentuado, mas ainda não tão grande quanto os anos anteriores. Provavelmente, isso se deve ao fato de que no início as políticas de <i>lockdown</i> estavam sendo mais aderiadas pela população."
      ],
      "metadata": {
        "id": "52KWA0KQEboq"
      }
    },
    {
      "cell_type": "code",
      "source": [
        "#Separar um dataframe apenas com dados do BR\n",
        "df_covid_br = df_covid.loc[df_covid.iso_code == 'BRA']\n",
        "\n",
        "#Primeiro caso confirmado\n",
        "df_covid_br.date2.min()"
      ],
      "metadata": {
        "colab": {
          "base_uri": "https://localhost:8080/"
        },
        "id": "M553n-47CbVJ",
        "outputId": "d6ae3cf0-b660-4687-89dc-fe73e1304e24"
      },
      "execution_count": null,
      "outputs": [
        {
          "output_type": "execute_result",
          "data": {
            "text/plain": [
              "Timestamp('2020-02-26 00:00:00')"
            ]
          },
          "metadata": {},
          "execution_count": 34
        }
      ]
    },
    {
      "cell_type": "markdown",
      "source": [
        "Para melhor visualizar o <i>overview</i>, abaixo plotamos um gráfico com a <b>média móvel dos casos confirmados</b> e <b>total absoluto de casos confirmados</b>. Para analisar a evolução, a média móvel é o melhor indicador, uma vez que ela normaliza os dados e suaviza casos de atraso na divulgação dos dados, fato que ocorre principalmente com os casos confirmados aos finais de semana. "
      ],
      "metadata": {
        "id": "fzlBrXvqI6JI"
      }
    },
    {
      "cell_type": "code",
      "source": [
        "#Evolução dos casos no Brasil\n",
        "periodo = df_covid_br['date2']\n",
        "casos = df_covid_br['new_cases']\n",
        "casos_media_movel = df_covid_br['new_cases_smoothed']\n",
        "\n",
        "\n",
        "fig, ax = plt.subplots(nrows=1,\n",
        "                       ncols=1,\n",
        "                       figsize=(10,5)\n",
        "                       )\n",
        "\n",
        "ax.plot(periodo, casos, color='#655B5B', label='Novos casos absolutos')\n",
        "ax.plot(periodo, casos_media_movel, 'r', label='Novos casos média móvel')\n",
        "\n",
        "locator = mdates.AutoDateLocator(maxticks=30)\n",
        "formatter = mdates.ConciseDateFormatter(locator)\n",
        "ax.xaxis.set_major_locator(locator)\n",
        "ax.xaxis.set_major_formatter(formatter)\n",
        "\n",
        "#plt.axvspan('2022-01-01', '2022-02-20', -5, 300000, facecolor='#D6D6D6', alpha=0.7)\n",
        "#plt.axvspan('2021-01-01', '2021-03-20', -5, 300000, facecolor='#D6D6D6', alpha=0.7)\n",
        "\n",
        "plt.xticks(rotation=30)\n",
        "\n",
        "plt.legend(loc='upper left')\n",
        "\n",
        "plt.tight_layout()\n",
        "plt.show()"
      ],
      "metadata": {
        "colab": {
          "base_uri": "https://localhost:8080/",
          "height": 369
        },
        "id": "RayP-N3_I3Ll",
        "outputId": "d6e0a03c-e669-4066-8b26-b4e0353883a0"
      },
      "execution_count": null,
      "outputs": [
        {
          "output_type": "display_data",
          "data": {
            "text/plain": [
              "<Figure size 720x360 with 1 Axes>"
            ],
            "image/png": "[encoded data removed]"
          },
          "metadata": {
            "needs_background": "light"
          }
        }
      ]
    },
    {
      "cell_type": "markdown",
      "source": [
        "Análisando o gráfico, há um pico que chama a atenção, logo no início de 2022. Provavelmente, isso ocorreu devido à um conjunto de fatores, dentre eles o fato de que o programa de vacinação já estava em andamento e já era a segunda virada de ano em pandemia. Esses dois fatores juntos, pode ter gerado um sentimento de alívio (pela vacinação) e cansaço do isolamento que, consequentemente, ocasionou em um relaxamento das medidas preventivas.\n",
        "\n",
        "No gráfico abaixo destacamos os dois períodos pós reveillon durante a pandemia. E, por mais que no início de 2021 tenha sido mais suave, ainda assim houve um aumento do casos, quando comparado com os meses anteriores.\n"
      ],
      "metadata": {
        "id": "oLvmjcUnJfG_"
      }
    },
    {
      "cell_type": "code",
      "source": [
        "#Evolução dos casos no Brasil\n",
        "periodo = df_covid_br['date2']\n",
        "casos = df_covid_br['new_cases']\n",
        "casos_media_movel = df_covid_br['new_cases_smoothed']\n",
        "\n",
        "\n",
        "fig, ax = plt.subplots(nrows=1,\n",
        "                       ncols=1,\n",
        "                       figsize=(10,5)\n",
        "                       )\n",
        "\n",
        "ax.plot(periodo, casos, color='#655B5B', label='Novos casos absolutos')\n",
        "ax.plot(periodo, casos_media_movel, 'r', label='Novos casos média móvel')\n",
        "\n",
        "locator = mdates.AutoDateLocator(maxticks=30)\n",
        "formatter = mdates.ConciseDateFormatter(locator)\n",
        "ax.xaxis.set_major_locator(locator)\n",
        "ax.xaxis.set_major_formatter(formatter)\n",
        "\n",
        "plt.axvspan('2022-01-01', '2022-02-01', -5, 300000, facecolor='#D6D6D6', alpha=0.7)\n",
        "plt.axvspan('2021-01-01', '2021-03-20', -5, 300000, facecolor='#D6D6D6', alpha=0.7)\n",
        "\n",
        "plt.xticks(rotation=30)\n",
        "\n",
        "plt.legend(loc='upper left')\n",
        "\n",
        "plt.tight_layout()\n",
        "plt.show()"
      ],
      "metadata": {
        "colab": {
          "base_uri": "https://localhost:8080/",
          "height": 369
        },
        "id": "eP0ds6ygKo3Q",
        "outputId": "73a219ae-e014-4041-de2c-6c65e1e29685"
      },
      "execution_count": null,
      "outputs": [
        {
          "output_type": "display_data",
          "data": {
            "text/plain": [
              "<Figure size 720x360 with 1 Axes>"
            ],
            "image/png": "[encoded data removed]"
          },
          "metadata": {
            "needs_background": "light"
          }
        }
      ]
    },
    {
      "cell_type": "markdown",
      "source": [
        "##A vacinação no Brasil\n",
        "\n",
        "O programa de vacinação no Brasil teve início em 17/01/21, 326 dias após o primeiro caso confirmado. Foi um programa desafiador com meta de vacinar com pelo menos 2 doses toda a população, mas que teve êxito.\n",
        "\n",
        "Agora, iremos analisar melhor esses dados. A base de dados utilizada foi a mesma da análise anterior, porém com os dados filtrados somente para o Brasil."
      ],
      "metadata": {
        "id": "4huka2KZLKWN"
      }
    },
    {
      "cell_type": "code",
      "source": [
        "#Preparando o Dataframe\n",
        "#Separar um dataframe apenas com dados do BR\n",
        "df_covid_br = df_covid.loc[df_covid.iso_code == 'BRA']\n",
        "\n",
        "#Para compararmos as taxas de óbitos e vacinação, é preciso que ambos parâmetros precisam estar parametrizados\n",
        "#Como a taxa de óbito está por milhão, então iremos criar uma coluna com \"vacinados por milhão\"\n",
        "df_covid_br['total_vaccinations_per_milion'] = df_covid_br['total_vaccinations'] / 100000\n",
        "\n",
        "#Adicionar coluna de data de acordo com o index\n",
        "df_covid_br['date'] = df_covid_br.index"
      ],
      "metadata": {
        "id": "ZzTPRojmxiJP"
      },
      "execution_count": null,
      "outputs": []
    },
    {
      "cell_type": "markdown",
      "source": [
        "Para melhor entender os dados, abaixo, plotamos o gráfico com a evolução do <b>total de mortes por milhão</b> e <b>total de vacinados por milhão</b>. Como na base de dados tínhamos apenas a variável <b>total de vacinação</b>, então dividimos esse valor por milhão, para pode parametrizar e comparar de forma igual os indicadores de mortes e vacinação."
      ],
      "metadata": {
        "id": "WaB9O2ABxiqd"
      }
    },
    {
      "cell_type": "code",
      "source": [
        "#Plotar gráfico da evolução dos óbitos e vacinação - evolução em data\n",
        "x  = df_covid_br.index\n",
        "y1 = df_covid_br['total_deaths_per_million']\n",
        "y2 = df_covid_br['total_vaccinations_per_milion']\n",
        "\n",
        "fig, ax = plt.subplots( nrows=1,\n",
        "                        ncols=1,\n",
        "                        figsize=(6,6)\n",
        "                       )\n",
        "\n",
        "ax.plot(x,y1, 'r', label='Óbitos por milhão')\n",
        "ax.plot(x,y2, 'b', label='Vacinados por milhão')\n",
        "ax.set_title('Comparativo: óbitos x vacinados')\n",
        "ax.set_ylabel('Por milhões')\n",
        "ax.set_xlabel('Meses a partir do primeiro caso')\n",
        "plt.xticks(rotation=30)\n",
        "plt.legend(loc='lower right')\n",
        "\n",
        "plt.tight_layout()\n",
        "plt.show()"
      ],
      "metadata": {
        "colab": {
          "base_uri": "https://localhost:8080/",
          "height": 441
        },
        "id": "g_3Ryy5wxjbN",
        "outputId": "dfc83722-3862-46b8-9bb3-0cf6edfe5989"
      },
      "execution_count": 30,
      "outputs": [
        {
          "output_type": "display_data",
          "data": {
            "text/plain": [
              "<Figure size 432x432 with 1 Axes>"
            ],
            "image/png": "[encoded data removed]"
          },
          "metadata": {
            "needs_background": "light"
          }
        }
      ]
    },
    {
      "cell_type": "markdown",
      "source": [
        "Como podemos reparar, de forma geral, a taxa de mortalidade teve uma elevada ascensão, mas a partir de meados de julho/2021, começou a estabilizar. Para visualizar de uma forma melhor, elaboramos o mesmo gráfico, mas agora o eixo x sendo o total de dias após o primeiro caso e incluímos uma linha a partir do momento em que a taxa de mortalidade começa a estabilizar. Dessa forma, fica claro que essa estabilização aconteceu após pouco menos de 200 dias após o início da vacinação. Isso indica uma forte relação entre a taxa de vacinação e a estabilização da mortalidade."
      ],
      "metadata": {
        "id": "npEh2gx-xxaq"
      }
    },
    {
      "cell_type": "code",
      "source": [
        "#Plotar gráfico da evolução dos óbitos e vacinação - evolução em dias\n",
        "x  = list(range(df_covid_br.shape[0]))\n",
        "y1 = df_covid_br['total_deaths_per_million']\n",
        "y2 = df_covid_br['total_vaccinations_per_milion']\n",
        "\n",
        "fig, ax = plt.subplots(nrows=1,\n",
        "                       ncols=1,\n",
        "                       figsize=(7,6)\n",
        "                       )\n",
        "\n",
        "plt.vlines(x=500, ymin=-10, ymax=5100, color='#7F7F7F', linestyle='--')\n",
        "\n",
        "ax.plot(x,y1, 'r', label='Óbitos por milhão')\n",
        "ax.plot(x,y2, 'b', label='Vacinados por milhão')\n",
        "ax.set_title('Comparativo: óbitos x vacinados')\n",
        "ax.set_ylabel('Por milhões')\n",
        "ax.set_xlabel('Dias após o primeiro caso')\n",
        "plt.legend(loc='lower right')\n",
        "\n",
        "plt.tight_layout()\n",
        "plt.show()"
      ],
      "metadata": {
        "colab": {
          "base_uri": "https://localhost:8080/",
          "height": 441
        },
        "id": "7ueimNu234zg",
        "outputId": "39311f3c-bb01-4f7a-8715-ce0ac7c74c6d"
      },
      "execution_count": 31,
      "outputs": [
        {
          "output_type": "display_data",
          "data": {
            "text/plain": [
              "<Figure size 504x432 with 1 Axes>"
            ],
            "image/png": "[encoded data removed]"
          },
          "metadata": {
            "needs_background": "light"
          }
        }
      ]
    },
    {
      "cell_type": "markdown",
      "source": [
        "Agora, iremos comparar o total de novos casos, mostrados em média móvel como barras, e a taxa de vacinação. Como na base de dados não temos a taxa de vacinação, essa foi calculada dividindo o total de vacinados pelo total da população. \n",
        "\n",
        "O gráfico permitirá termos uma noção da transmissao da COVID-19 com base no total de novos casos e os efeitos da vacinação."
      ],
      "metadata": {
        "id": "hOLEoyHc5x0D"
      }
    },
    {
      "cell_type": "code",
      "source": [
        "#Incluir taxa de vacinação\n",
        "df_covid_br['taxa_vacinacao'] = df_covid_br['people_vaccinated']/df_covid_br['population']\n",
        "vacinacao = df_covid_br['taxa_vacinacao']\n",
        "\n",
        "#Evolução dos casos no Brasil\n",
        "periodo = df_covid_br['date']\n",
        "casos_media_movel = df_covid_br['new_cases_smoothed']\n",
        "\n",
        "\n",
        "fig, ax = plt.subplots(nrows=1,\n",
        "                       ncols=1,\n",
        "                       figsize=(10,5)\n",
        "                       )\n",
        "\n",
        "plt.bar(periodo, casos_media_movel, width=0.5, label='Novos casos média móvel')\n",
        "\n",
        "ax2=ax.twinx()\n",
        "ax2.plot(periodo, vacinacao, color='#0D0D0D', label='Taxa de vacinação', linestyle='--')\n",
        "\n",
        "#Formatar as datas do eixo x\n",
        "locator = mdates.AutoDateLocator(maxticks=20)\n",
        "formatter = mdates.ConciseDateFormatter(locator)\n",
        "ax.xaxis.set_major_locator(locator)\n",
        "ax.xaxis.set_major_formatter(formatter)\n",
        "\n",
        "plt.title('Novos casos (média móvel) e Taxa de vacinação')\n",
        "plt.xticks(rotation=30)\n",
        "plt.legend(loc='upper left')\n",
        "plt.tight_layout()\n",
        "plt.show()"
      ],
      "metadata": {
        "colab": {
          "base_uri": "https://localhost:8080/",
          "height": 369
        },
        "id": "SS44K0kG5yXn",
        "outputId": "ee29e784-d1e8-49fa-bd80-b689c13e72f7"
      },
      "execution_count": 42,
      "outputs": [
        {
          "output_type": "display_data",
          "data": {
            "text/plain": [
              "<Figure size 720x360 with 2 Axes>"
            ],
            "image/png": "[encoded data removed]"
          },
          "metadata": {
            "needs_background": "light"
          }
        }
      ]
    },
    {
      "cell_type": "markdown",
      "source": [
        "Assim como no gráfico em que comparamos a taxa de mortalidade com a taxa de vacinação, a partir de meados de julho/2021 notamos uma queda nos novos casos. Novamente, podemos dizer que há uma forte relação entre a taxa de vacinação e o número de casos confirmados.\n",
        "\n",
        "Apesar disso, o pico de casos no início de 2022 chama a atenção, pois aproximadamente 80% da população já estava vacinada. Isso pode ser explicado pelos fatores que já mencionei acima, como o relaxamento das medidas de proteção, e também devido a novas variantes um pouco mais resistentes à vacina. Porém, isso não indica ineficácia da vacina, pois a taxa de mortalidade se manteve estável. \n",
        "\n",
        "Para entender melhor essa situação, plotamos o mesmo gráfico, mas agora com as barras representando a média móvel de <b>novos óbitos</b>."
      ],
      "metadata": {
        "id": "H9ykbR2w9x9N"
      }
    },
    {
      "cell_type": "code",
      "source": [
        "#Evolução dos óbitos no Brasil\n",
        "obitos_media_movel = df_covid_br['new_deaths_smoothed']\n",
        "\n",
        "fig, ax = plt.subplots(nrows=1,\n",
        "                       ncols=1,\n",
        "                       figsize=(10,5)\n",
        "                       )\n",
        "\n",
        "plt.bar(periodo, obitos_media_movel, width=0.5, label='Novos óbitos média móvel')\n",
        "\n",
        "ax2=ax.twinx()\n",
        "ax2.plot(periodo, vacinacao, color='#0D0D0D', label='Taxa de vacinação', linestyle='--')\n",
        "\n",
        "#Formatar as datas do eixo x\n",
        "locator = mdates.AutoDateLocator(maxticks=20)\n",
        "formatter = mdates.ConciseDateFormatter(locator)\n",
        "ax.xaxis.set_major_locator(locator)\n",
        "ax.xaxis.set_major_formatter(formatter)\n",
        "\n",
        "plt.title('Novos óbitos (média móvel) e Taxa de vacinação')\n",
        "plt.xticks(rotation=30)\n",
        "plt.legend(loc='upper left')\n",
        "plt.tight_layout()\n",
        "plt.show()"
      ],
      "metadata": {
        "colab": {
          "base_uri": "https://localhost:8080/",
          "height": 369
        },
        "id": "NM5IMhTW_0YU",
        "outputId": "eb46d124-3ac9-4a7e-d5da-4b7639793028"
      },
      "execution_count": 43,
      "outputs": [
        {
          "output_type": "display_data",
          "data": {
            "text/plain": [
              "<Figure size 720x360 with 2 Axes>"
            ],
            "image/png": "[encoded data removed]"
          },
          "metadata": {
            "needs_background": "light"
          }
        }
      ]
    },
    {
      "cell_type": "markdown",
      "source": [
        "Esse gráfico nos mostra que, ainda que tivemos um pico de novos óbitos no início de 2022 (quando comparado aos meses anteriores), esse ainda foi menor quando comparado aos picos de meado de julho/2020 e abril/2021. Mais uma vez, isso evidencia a eficácia da vacina. Provavelmente, se não tivessemos campanha de vacinação, no início de 2022, teríamos uma catastrofe.\n",
        "\n",
        "\n",
        "Em resumo, no início de 2022, tivemos um pico de casos confirmados, mas com baixa mortalidade, mostrando que a vacina teve um grande papel evitando a ocorrência de casos graves e, consequente, óbito."
      ],
      "metadata": {
        "id": "6iP08Lv0AcMk"
      }
    },
    {
      "cell_type": "markdown",
      "metadata": {
        "id": "LCsiXvM3BcsO"
      },
      "source": [
        "## Conclusão\n",
        "\n",
        "A pandemia de COVID-19 nos deixou vários aprendizados, além das irreparáveis perdas. Através dos dados, podemos concluir que, enquanto não há vacina desenvolvida, devemos manter as principais medidas de prevenção, como uso de máscaras, higiene das mãos e distanciamento. Essas medidas, conteram as taxas de transmmissão e, consequentes, taxas de óbitos.\n",
        "\n",
        "O programa de vacinação apresentou êxito na contenção dos casos e óbitos confirmados. Isso ressalta a importância da ciência do desenvolvimento de programas de estudo relacionados ao assunto, de forma a permitir um rápido desenvolvimento de uma vacina em casos de novas pandemias. "
      ]
    }
  ]
}